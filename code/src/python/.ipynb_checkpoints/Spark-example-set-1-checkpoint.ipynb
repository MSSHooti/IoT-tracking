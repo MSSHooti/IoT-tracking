{
 "cells": [
  {
   "cell_type": "markdown",
   "metadata": {},
   "source": [
    "## Working with RDDs (ch 3)"
   ]
  },
  {
   "cell_type": "markdown",
   "metadata": {},
   "source": [
    "An RDD is simply an immutable, distributed collection of objects. \n",
    "\n",
    "Users create RDDs in two ways: by loading an external dataset, or by distributing a collection of objects (e.g., a list or set) in their driver program. "
   ]
  },
  {
   "cell_type": "markdown",
   "metadata": {},
   "source": [
    "first example (3.1): load a text file using the SparkContext sc"
   ]
  },
  {
   "cell_type": "code",
   "execution_count": 1,
   "metadata": {
    "collapsed": false
   },
   "outputs": [
    {
     "ename": "NameError",
     "evalue": "name 'sc' is not defined",
     "output_type": "error",
     "traceback": [
      "\u001b[0;31m---------------------------------------------------------------------------\u001b[0m",
      "\u001b[0;31mNameError\u001b[0m                                 Traceback (most recent call last)",
      "\u001b[0;32m<ipython-input-1-5a3e46f4b0f5>\u001b[0m in \u001b[0;36m<module>\u001b[0;34m()\u001b[0m\n\u001b[0;32m----> 1\u001b[0;31m \u001b[0mlines\u001b[0m \u001b[0;34m=\u001b[0m \u001b[0msc\u001b[0m\u001b[0;34m.\u001b[0m\u001b[0mtextFile\u001b[0m\u001b[0;34m(\u001b[0m\u001b[0;34m\"s3n://csc8101-spark-example-data/ricottaCake.txt\"\u001b[0m\u001b[0;34m)\u001b[0m\u001b[0;34m\u001b[0m\u001b[0m\n\u001b[0m\u001b[1;32m      2\u001b[0m \u001b[0mlines\u001b[0m\u001b[0;34m.\u001b[0m\u001b[0mcount\u001b[0m\u001b[0;34m(\u001b[0m\u001b[0;34m)\u001b[0m\u001b[0;34m\u001b[0m\u001b[0m\n",
      "\u001b[0;31mNameError\u001b[0m: name 'sc' is not defined"
     ]
    }
   ],
   "source": [
    "lines = sc.textFile(\"s3n://csc8101-spark-example-data/ricottaCake.txt\") \n",
    "lines.count()"
   ]
  },
  {
   "cell_type": "code",
   "execution_count": 3,
   "metadata": {
    "collapsed": false
   },
   "outputs": [
    {
     "data": {
      "text/plain": [
       "'Ricotta cake algorithm (recipe, really)'"
      ]
     },
     "execution_count": 3,
     "metadata": {},
     "output_type": "execute_result"
    }
   ],
   "source": [
    "lines.first()"
   ]
  },
  {
   "cell_type": "markdown",
   "metadata": {},
   "source": [
    "The Spark context is a built-in variable, already bound to the Context. When using Java (or Scala), you need to do the binding yourself"
   ]
  },
  {
   "cell_type": "code",
   "execution_count": 2,
   "metadata": {
    "collapsed": false
   },
   "outputs": [
    {
     "data": {
      "text/plain": [
       "''"
      ]
     },
     "execution_count": 2,
     "metadata": {},
     "output_type": "execute_result"
    }
   ],
   "source": [
    "sc"
   ]
  },
  {
   "cell_type": "markdown",
   "metadata": {},
   "source": [
    "passing a (lambda) function to a worker"
   ]
  },
  {
   "cell_type": "code",
   "execution_count": 10,
   "metadata": {
    "collapsed": true
   },
   "outputs": [],
   "source": [
    "pythonLines = lines.filter(lambda line: \"dough\" in line)"
   ]
  },
  {
   "cell_type": "markdown",
   "metadata": {},
   "source": [
    "Once created, RDDs offer two types of operations: transformations and actions. Transformations construct a new RDD from a previous one. For example, one com‐ mon transformation is filtering data that matches a predicate."
   ]
  },
  {
   "cell_type": "markdown",
   "metadata": {},
   "source": [
    "Actions, on the other hand, compute a result based on an RDD, and either return it to the driver program or save it to an external storage system (e.g., HDFS). One example of an action we called earlier is first():"
   ]
  },
  {
   "cell_type": "code",
   "execution_count": 15,
   "metadata": {
    "collapsed": false
   },
   "outputs": [
    {
     "data": {
      "text/plain": [
       "\"Cooking time = rest time for dough + baking time = 1hr + 40'\""
      ]
     },
     "execution_count": 15,
     "metadata": {},
     "output_type": "execute_result"
    }
   ],
   "source": [
    "pythonLines.first()"
   ]
  },
  {
   "cell_type": "code",
   "execution_count": 16,
   "metadata": {
    "collapsed": false
   },
   "outputs": [
    {
     "data": {
      "text/plain": [
       "5"
      ]
     },
     "execution_count": 16,
     "metadata": {},
     "output_type": "execute_result"
    }
   ],
   "source": [
    "pythonLines.count()"
   ]
  },
  {
   "cell_type": "markdown",
   "metadata": {},
   "source": [
    "**Lazy evaluation:** \n",
    "\n",
    "Spark computes them only in a lazy fashion—that is, the first time they are used in an action.\n",
    "\n",
    "If Spark were to load and store all the lines in the file as soon as we wrote lines = sc.textFile(...), it would waste a lot of storage space, given that we then immediately filter out many lines. Instead, once Spark sees the whole chain of transformations, it can compute just the data needed for its result. In fact, for the first() action, Spark scans the file only until it finds the first matching line; it doesn’t even read the whole file."
   ]
  },
  {
   "cell_type": "markdown",
   "metadata": {},
   "source": [
    "**Persistence:**\n",
    "    \n",
    "    If you would like to reuse an RDD in multiple actions, you can ask Spark to persist it using RDD.persist()."
   ]
  },
  {
   "cell_type": "code",
   "execution_count": 17,
   "metadata": {
    "collapsed": false
   },
   "outputs": [
    {
     "data": {
      "text/plain": [
       "PythonRDD[11] at RDD at PythonRDD.scala:43"
      ]
     },
     "execution_count": 17,
     "metadata": {},
     "output_type": "execute_result"
    }
   ],
   "source": [
    "pythonLines.persist()"
   ]
  },
  {
   "cell_type": "markdown",
   "metadata": {},
   "source": [
    "### Creating RDDs and RDD Operations: Actions and Transformations\n",
    "\n",
    "The simplest way to create RDDs is to take an existing collection in your program and pass it to SparkContext’s parallelize() method\n",
    "\n",
    "Ex 3.5:"
   ]
  },
  {
   "cell_type": "code",
   "execution_count": 19,
   "metadata": {
    "collapsed": true
   },
   "outputs": [],
   "source": [
    "lines = sc.parallelize([\"pmandas\", \"i like pandas\"])"
   ]
  },
  {
   "cell_type": "markdown",
   "metadata": {},
   "source": [
    "Ex - create a new RDD by loading a dataset"
   ]
  },
  {
   "cell_type": "code",
   "execution_count": 2,
   "metadata": {
    "collapsed": true
   },
   "outputs": [],
   "source": [
    "    inputRDD = sc.textFile(\"s3n://csc8101-spark-example-data/sample_movielens_movies.txt\")"
   ]
  },
  {
   "cell_type": "markdown",
   "metadata": {},
   "source": [
    "**RDD Operations**\n",
    "\n",
    "RDDs support two types of operations: transformations and actions. *Transformations* are operations on RDDs that return a new RDD, such as map() and filter(). *Actions* are operations that return a result to the driver pro‐ gram or write it to storage, and kick off a computation, such as count() and first(). Spark treats transformations and actions very differently, so understanding which type of operation you are performing will be important."
   ]
  },
  {
   "cell_type": "markdown",
   "metadata": {},
   "source": [
    "Examples of transformations:"
   ]
  },
  {
   "cell_type": "code",
   "execution_count": 3,
   "metadata": {
    "collapsed": false
   },
   "outputs": [],
   "source": [
    "thrillerRDD = inputRDD.filter(lambda x: \"Thriller\" in x)"
   ]
  },
  {
   "cell_type": "code",
   "execution_count": 4,
   "metadata": {
    "collapsed": false
   },
   "outputs": [],
   "source": [
    "comedyRDD = inputRDD.filter(lambda x: \"Comedy\" in x)"
   ]
  },
  {
   "cell_type": "code",
   "execution_count": 5,
   "metadata": {
    "collapsed": true
   },
   "outputs": [],
   "source": [
    "whatILikeRDD = thrillerRDD.union(comedyRDD)"
   ]
  },
  {
   "cell_type": "markdown",
   "metadata": {},
   "source": [
    "*Actions* - printing out the first 10 lines of each movie category"
   ]
  },
  {
   "cell_type": "code",
   "execution_count": 6,
   "metadata": {
    "collapsed": false
   },
   "outputs": [
    {
     "data": {
      "text/plain": [
       "['2::Movie 2::Romance|Thriller',\n",
       " '9::Movie 9::Anime|Thriller',\n",
       " '13::Movie 13::Thriller|Action',\n",
       " '15::Movie 15::Comedy|Thriller',\n",
       " '17::Movie 17::Thriller|Action',\n",
       " '21::Movie 21::Romance|Thriller',\n",
       " '28::Movie 28::Thriller|Anime',\n",
       " '30::Movie 30::Thriller|Romance',\n",
       " '31::Movie 31::Thriller|Romance',\n",
       " '35::Movie 35::Action|Thriller']"
      ]
     },
     "execution_count": 6,
     "metadata": {},
     "output_type": "execute_result"
    }
   ],
   "source": [
    "thrillerRDD.take(10)"
   ]
  },
  {
   "cell_type": "code",
   "execution_count": 8,
   "metadata": {
    "collapsed": false
   },
   "outputs": [
    {
     "data": {
      "text/plain": [
       "['0::Movie 0::Romance|Comedy',\n",
       " '4::Movie 4::Anime|Comedy',\n",
       " '6::Movie 6::Action|Comedy',\n",
       " '7::Movie 7::Anime|Comedy',\n",
       " '8::Movie 8::Comedy|Action',\n",
       " '12::Movie 12::Anime|Comedy',\n",
       " '14::Movie 14::Anime|Comedy',\n",
       " '15::Movie 15::Comedy|Thriller',\n",
       " '18::Movie 18::Action|Comedy',\n",
       " '23::Movie 23::Comedy|Comedy']"
      ]
     },
     "execution_count": 8,
     "metadata": {},
     "output_type": "execute_result"
    }
   ],
   "source": [
    "comedyRDD.take(10)"
   ]
  },
  {
   "cell_type": "code",
   "execution_count": 9,
   "metadata": {
    "collapsed": false
   },
   "outputs": [
    {
     "data": {
      "text/plain": [
       "['2::Movie 2::Romance|Thriller',\n",
       " '9::Movie 9::Anime|Thriller',\n",
       " '13::Movie 13::Thriller|Action',\n",
       " '15::Movie 15::Comedy|Thriller',\n",
       " '17::Movie 17::Thriller|Action',\n",
       " '21::Movie 21::Romance|Thriller',\n",
       " '28::Movie 28::Thriller|Anime',\n",
       " '30::Movie 30::Thriller|Romance',\n",
       " '31::Movie 31::Thriller|Romance',\n",
       " '35::Movie 35::Action|Thriller',\n",
       " '38::Movie 38::Thriller|Romance',\n",
       " '41::Movie 41::Comedy|Thriller',\n",
       " '43::Movie 43::Thriller|Anime',\n",
       " '52::Movie 52::Thriller|Action',\n",
       " '54::Movie 54::Romance|Thriller',\n",
       " '58::Movie 58::Thriller|Romance',\n",
       " '59::Movie 59::Thriller|Comedy',\n",
       " '63::Movie 63::Romance|Thriller',\n",
       " '67::Movie 67::Thriller|Anime',\n",
       " '68::Movie 68::Thriller|Romance']"
      ]
     },
     "execution_count": 9,
     "metadata": {},
     "output_type": "execute_result"
    }
   ],
   "source": [
    "whatILikeRDD.take(20)"
   ]
  },
  {
   "cell_type": "markdown",
   "metadata": {},
   "source": [
    "note: RDDs also have a collect() function to retrieve the entire RDD."
   ]
  },
  {
   "cell_type": "markdown",
   "metadata": {},
   "source": [
    "Action: count()"
   ]
  },
  {
   "cell_type": "code",
   "execution_count": 10,
   "metadata": {
    "collapsed": false
   },
   "outputs": [
    {
     "data": {
      "text/plain": [
       "73"
      ]
     },
     "execution_count": 10,
     "metadata": {},
     "output_type": "execute_result"
    }
   ],
   "source": [
    "whatILikeRDD.count()"
   ]
  },
  {
   "cell_type": "markdown",
   "metadata": {},
   "source": [
    "**Passing functions to Spark** (ch 3 pg. 30)"
   ]
  },
  {
   "cell_type": "code",
   "execution_count": 18,
   "metadata": {
    "collapsed": false
   },
   "outputs": [
    {
     "name": "stdout",
     "output_type": "stream",
     "text": [
      "2::Movie 2::Romance|Thriller\n",
      "9::Movie 9::Anime|Thriller\n",
      "13::Movie 13::Thriller|Action\n",
      "15::Movie 15::Comedy|Thriller\n",
      "17::Movie 17::Thriller|Action\n",
      "21::Movie 21::Romance|Thriller\n",
      "28::Movie 28::Thriller|Anime\n",
      "30::Movie 30::Thriller|Romance\n",
      "31::Movie 31::Thriller|Romance\n",
      "35::Movie 35::Action|Thriller\n",
      "38::Movie 38::Thriller|Romance\n",
      "41::Movie 41::Comedy|Thriller\n",
      "43::Movie 43::Thriller|Anime\n",
      "52::Movie 52::Thriller|Action\n",
      "54::Movie 54::Romance|Thriller\n",
      "58::Movie 58::Thriller|Romance\n",
      "59::Movie 59::Thriller|Comedy\n",
      "63::Movie 63::Romance|Thriller\n",
      "67::Movie 67::Thriller|Anime\n",
      "68::Movie 68::Thriller|Romance\n",
      "70::Movie 70::Thriller|Thriller\n",
      "72::Movie 72::Thriller|Romance\n",
      "79::Movie 79::Thriller|Thriller\n",
      "83::Movie 83::Comedy|Thriller\n",
      "85::Movie 85::Thriller|Anime\n",
      "87::Movie 87::Thriller|Thriller\n",
      "88::Movie 88::Romance|Thriller\n",
      "91::Movie 91::Anime|Thriller\n",
      "93::Movie 93::Romance|Thriller\n",
      "94::Movie 94::Thriller|Comedy\n",
      "96::Movie 96::Thriller|Romance\n",
      "97::Movie 97::Thriller|Thriller\n",
      "98::Movie 98::Thriller|Comedy\n",
      "99::Movie 99::Thriller|Romance\n",
      "15::Movie 15::Comedy|Thriller\n",
      "41::Movie 41::Comedy|Thriller\n",
      "59::Movie 59::Thriller|Comedy\n",
      "83::Movie 83::Comedy|Thriller\n",
      "94::Movie 94::Thriller|Comedy\n",
      "98::Movie 98::Thriller|Comedy\n"
     ]
    }
   ],
   "source": [
    "def isThriller(s): \n",
    "    return \"Thriller\" in s\n",
    "thrillers = whatILikeRDD.filter(isThriller)\n",
    "for t in thrillers.collect():\n",
    "    print (t)"
   ]
  },
  {
   "cell_type": "markdown",
   "metadata": {},
   "source": [
    "**Common Transformations and Actions**"
   ]
  },
  {
   "cell_type": "markdown",
   "metadata": {},
   "source": [
    "Element-wise transformations: **map**  (pg 34)"
   ]
  },
  {
   "cell_type": "code",
   "execution_count": 25,
   "metadata": {
    "collapsed": false,
    "scrolled": true
   },
   "outputs": [
    {
     "name": "stdout",
     "output_type": "stream",
     "text": [
      "1\n",
      "4\n",
      "9\n",
      "16\n"
     ]
    }
   ],
   "source": [
    "nums = sc.parallelize([1, 2, 3, 4])\n",
    "squared = nums.map(lambda x: x * x).collect()\n",
    "for num in squared:\n",
    "    print('{i}'.format(i=num))"
   ]
  },
  {
   "cell_type": "markdown",
   "metadata": {},
   "source": [
    "**flatMap** and map -- this is ex. 3.29"
   ]
  },
  {
   "cell_type": "code",
   "execution_count": 29,
   "metadata": {
    "collapsed": false
   },
   "outputs": [
    {
     "name": "stdout",
     "output_type": "stream",
     "text": [
      "the\n",
      "quick\n",
      "red\n",
      "fox\n",
      "advanced\n",
      "in\n",
      "the\n",
      "woods\n"
     ]
    },
    {
     "data": {
      "text/plain": [
       "[['the', 'quick', 'red', 'fox'], ['advanced', 'in', 'the', 'woods']]"
      ]
     },
     "execution_count": 29,
     "metadata": {},
     "output_type": "execute_result"
    }
   ],
   "source": [
    "lines = sc.parallelize([\"the quick red fox\", \"advanced in the woods\"])\n",
    "words = lines.flatMap(lambda line: line.split(\" \"))\n",
    "lists = lines.map(lambda line: line.split(\" \"))\n",
    "for w in words.collect():\n",
    "    print(w)\n",
    "lists.collect()"
   ]
  },
  {
   "cell_type": "markdown",
   "metadata": {},
   "source": [
    "Pseudo set operations: **union**"
   ]
  },
  {
   "cell_type": "code",
   "execution_count": 38,
   "metadata": {
    "collapsed": false
   },
   "outputs": [
    {
     "data": {
      "text/plain": [
       "['2::Movie 2::Romance|Thriller',\n",
       " '9::Movie 9::Anime|Thriller',\n",
       " '13::Movie 13::Thriller|Action',\n",
       " '15::Movie 15::Comedy|Thriller',\n",
       " '17::Movie 17::Thriller|Action',\n",
       " '21::Movie 21::Romance|Thriller',\n",
       " '28::Movie 28::Thriller|Anime',\n",
       " '30::Movie 30::Thriller|Romance',\n",
       " '31::Movie 31::Thriller|Romance',\n",
       " '35::Movie 35::Action|Thriller',\n",
       " '38::Movie 38::Thriller|Romance',\n",
       " '41::Movie 41::Comedy|Thriller',\n",
       " '43::Movie 43::Thriller|Anime',\n",
       " '52::Movie 52::Thriller|Action',\n",
       " '54::Movie 54::Romance|Thriller',\n",
       " '58::Movie 58::Thriller|Romance',\n",
       " '59::Movie 59::Thriller|Comedy',\n",
       " '63::Movie 63::Romance|Thriller',\n",
       " '67::Movie 67::Thriller|Anime',\n",
       " '68::Movie 68::Thriller|Romance',\n",
       " '70::Movie 70::Thriller|Thriller',\n",
       " '72::Movie 72::Thriller|Romance',\n",
       " '79::Movie 79::Thriller|Thriller',\n",
       " '83::Movie 83::Comedy|Thriller',\n",
       " '85::Movie 85::Thriller|Anime',\n",
       " '87::Movie 87::Thriller|Thriller',\n",
       " '88::Movie 88::Romance|Thriller',\n",
       " '91::Movie 91::Anime|Thriller',\n",
       " '93::Movie 93::Romance|Thriller',\n",
       " '94::Movie 94::Thriller|Comedy',\n",
       " '96::Movie 96::Thriller|Romance',\n",
       " '97::Movie 97::Thriller|Thriller',\n",
       " '98::Movie 98::Thriller|Comedy',\n",
       " '99::Movie 99::Thriller|Romance',\n",
       " '0::Movie 0::Romance|Comedy',\n",
       " '4::Movie 4::Anime|Comedy',\n",
       " '6::Movie 6::Action|Comedy',\n",
       " '7::Movie 7::Anime|Comedy',\n",
       " '8::Movie 8::Comedy|Action',\n",
       " '12::Movie 12::Anime|Comedy',\n",
       " '14::Movie 14::Anime|Comedy',\n",
       " '15::Movie 15::Comedy|Thriller',\n",
       " '18::Movie 18::Action|Comedy',\n",
       " '23::Movie 23::Comedy|Comedy',\n",
       " '25::Movie 25::Comedy|Comedy',\n",
       " '32::Movie 32::Comedy|Anime',\n",
       " '33::Movie 33::Comedy|Comedy',\n",
       " '39::Movie 39::Romance|Comedy',\n",
       " '41::Movie 41::Comedy|Thriller',\n",
       " '42::Movie 42::Comedy|Action',\n",
       " '45::Movie 45::Comedy|Romance',\n",
       " '46::Movie 46::Comedy|Action',\n",
       " '47::Movie 47::Romance|Comedy',\n",
       " '48::Movie 48::Action|Comedy',\n",
       " '50::Movie 50::Comedy|Romance',\n",
       " '56::Movie 56::Comedy|Action',\n",
       " '59::Movie 59::Thriller|Comedy',\n",
       " '60::Movie 60::Anime|Comedy',\n",
       " '61::Movie 61::Comedy|Action',\n",
       " '62::Movie 62::Comedy|Romance',\n",
       " '66::Movie 66::Comedy|Action',\n",
       " '69::Movie 69::Action|Comedy',\n",
       " '71::Movie 71::Action|Comedy',\n",
       " '73::Movie 73::Comedy|Action',\n",
       " '76::Movie 76::Comedy|Comedy',\n",
       " '77::Movie 77::Comedy|Comedy',\n",
       " '78::Movie 78::Comedy|Comedy',\n",
       " '80::Movie 80::Comedy|Anime',\n",
       " '81::Movie 81::Comedy|Anime',\n",
       " '83::Movie 83::Comedy|Thriller',\n",
       " '92::Movie 92::Action|Comedy',\n",
       " '94::Movie 94::Thriller|Comedy',\n",
       " '98::Movie 98::Thriller|Comedy']"
      ]
     },
     "execution_count": 38,
     "metadata": {},
     "output_type": "execute_result"
    }
   ],
   "source": [
    "unionSet = thrillerRDD.union(comedyRDD)\n",
    "unionSet.collect()"
   ]
  },
  {
   "cell_type": "markdown",
   "metadata": {},
   "source": [
    "**distinct()**: extract genres from movie lines, then select distinct"
   ]
  },
  {
   "cell_type": "code",
   "execution_count": 57,
   "metadata": {
    "collapsed": false
   },
   "outputs": [
    {
     "data": {
      "text/plain": [
       "['Comedy|Action',\n",
       " 'Thriller|Comedy',\n",
       " 'Anime|Comedy',\n",
       " 'Romance|Comedy',\n",
       " 'Action|Comedy',\n",
       " 'Comedy|Comedy',\n",
       " 'Comedy|Anime',\n",
       " 'Comedy|Thriller',\n",
       " 'Comedy|Romance']"
      ]
     },
     "execution_count": 57,
     "metadata": {},
     "output_type": "execute_result"
    }
   ],
   "source": [
    "comedyGenres = comedyRDD.map(lambda line: line.split(\"::\")).map(lambda l: l[2])\n",
    "comedyGenres.distinct().collect()"
   ]
  },
  {
   "cell_type": "code",
   "execution_count": 58,
   "metadata": {
    "collapsed": false
   },
   "outputs": [
    {
     "data": {
      "text/plain": [
       "['Thriller|Thriller',\n",
       " 'Thriller|Comedy',\n",
       " 'Anime|Thriller',\n",
       " 'Romance|Thriller',\n",
       " 'Thriller|Action',\n",
       " 'Thriller|Anime',\n",
       " 'Action|Thriller',\n",
       " 'Comedy|Thriller',\n",
       " 'Thriller|Romance']"
      ]
     },
     "execution_count": 58,
     "metadata": {},
     "output_type": "execute_result"
    }
   ],
   "source": [
    "thrillerGenres = thrillerRDD.map(lambda line: line.split(\"::\")).map(lambda l: l[2])\n",
    "thrillerGenres.distinct().collect()"
   ]
  },
  {
   "cell_type": "markdown",
   "metadata": {},
   "source": [
    "**intersection**"
   ]
  },
  {
   "cell_type": "code",
   "execution_count": 60,
   "metadata": {
    "collapsed": false
   },
   "outputs": [
    {
     "data": {
      "text/plain": [
       "['Comedy|Thriller', 'Thriller|Comedy']"
      ]
     },
     "execution_count": 60,
     "metadata": {},
     "output_type": "execute_result"
    }
   ],
   "source": [
    "thrillerGenres.intersection(comedyGenres).collect()"
   ]
  },
  {
   "cell_type": "markdown",
   "metadata": {},
   "source": [
    "**set difference**"
   ]
  },
  {
   "cell_type": "code",
   "execution_count": 62,
   "metadata": {
    "collapsed": false
   },
   "outputs": [
    {
     "data": {
      "text/plain": [
       "['Anime|Thriller',\n",
       " 'Thriller|Anime',\n",
       " 'Thriller|Romance',\n",
       " 'Thriller|Action',\n",
       " 'Thriller|Thriller',\n",
       " 'Romance|Thriller',\n",
       " 'Action|Thriller']"
      ]
     },
     "execution_count": 62,
     "metadata": {},
     "output_type": "execute_result"
    }
   ],
   "source": [
    "thrillerGenres.subtract(comedyGenres).distinct().collect()"
   ]
  },
  {
   "cell_type": "markdown",
   "metadata": {},
   "source": [
    "**cartesian**"
   ]
  },
  {
   "cell_type": "code",
   "execution_count": 63,
   "metadata": {
    "collapsed": false
   },
   "outputs": [
    {
     "data": {
      "text/plain": [
       "1326"
      ]
     },
     "execution_count": 63,
     "metadata": {},
     "output_type": "execute_result"
    }
   ],
   "source": [
    "thrillerGenres.cartesian(comedyGenres).count()"
   ]
  },
  {
   "cell_type": "markdown",
   "metadata": {},
   "source": [
    "Refer to Table 3-2 for a summary of Basic RDD transformations on an RDD"
   ]
  },
  {
   "cell_type": "markdown",
   "metadata": {},
   "source": [
    "Computing averages using map and reduce"
   ]
  },
  {
   "cell_type": "code",
   "execution_count": 73,
   "metadata": {
    "collapsed": false
   },
   "outputs": [
    {
     "name": "stdout",
     "output_type": "stream",
     "text": [
      "3.5\n"
     ]
    }
   ],
   "source": [
    "nums = sc.parallelize([2,3,4,5])\n",
    "pairs = nums.map(lambda x: (x,1))\n",
    "(sums, count) = pairs.reduce(lambda x,y: (x[0]+y[0],x[1]+y[1]) )\n",
    "print(sums/float(count))"
   ]
  },
  {
   "cell_type": "markdown",
   "metadata": {},
   "source": [
    "Computing average using the **aggregate()** function"
   ]
  },
  {
   "cell_type": "code",
   "execution_count": 74,
   "metadata": {
    "collapsed": false
   },
   "outputs": [
    {
     "data": {
      "text/plain": [
       "3.5"
      ]
     },
     "execution_count": 74,
     "metadata": {},
     "output_type": "execute_result"
    }
   ],
   "source": [
    "sumCount = nums.aggregate((0, 0),\n",
    "                          (lambda acc, value: (acc[0] + value, acc[1] + 1)),\n",
    "                          (lambda acc1, acc2: (acc1[0] + acc2[0], acc1[1] + acc2[1])))\n",
    "sumCount[0] / float(sumCount[1])"
   ]
  }
 ],
 "metadata": {
  "celltoolbar": "Raw Cell Format",
  "kernelspec": {
   "display_name": "Python 3",
   "language": "python",
   "name": "python3"
  },
  "language_info": {
   "codemirror_mode": {
    "name": "ipython",
    "version": 3
   },
   "file_extension": ".py",
   "mimetype": "text/x-python",
   "name": "python",
   "nbconvert_exporter": "python",
   "pygments_lexer": "ipython3",
   "version": "3.5.1"
  }
 },
 "nbformat": 4,
 "nbformat_minor": 0
}
